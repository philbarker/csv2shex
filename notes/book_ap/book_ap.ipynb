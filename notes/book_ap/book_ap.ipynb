{
 "cells": [
  {
   "cell_type": "markdown",
   "metadata": {},
   "source": [
    "## Read CSV file and return list of shapes (as dicts)\n",
    "\n",
    "Source: [csvreader.py](https://github.com/tombaker/csv2shex/blob/master/csv2shex/csvreader.py)\n",
    "\n",
    "Shape elements\n",
    "- shapeID (URI)\n",
    "- shapeClosed (later)\n",
    "- shapeLabel (later: annotation)\n",
    "- start (later)\n",
    "\n",
    "Triple constraint elements\n",
    "- propertyID (URI)\n",
    "- propertyLabel (later: annotation)\n",
    "- mandatory\n",
    "- repeatable\n",
    "- valueNodeType\n",
    "- valueDataType (URI)\n",
    "- valueConstraint (URI - maybe)\n",
    "- valueConstraintType\n",
    "- valueShape (URI)\n",
    "- note (later: annotation)\n",
    "\n",
    "```\n",
    "def csvreader(csvfile):\n",
    "    \"\"\"Read CSV file and return list of CSV shapes, one dict per CSV shape.\"\"\"\n",
    "    csvrow_dicts_list = _get_csvrow_dicts_list(csvfile)\n",
    "    corrected_csvrow_dicts_list = _get_corrected_csvrows_list(csvrow_dicts_list)\n",
    "    csvshapes_list = _get_csvshape_dicts_list(corrected_csvrow_dicts_list)\n",
    "    return csvshapes_list\n",
    "```"
   ]
  },
  {
   "cell_type": "code",
   "execution_count": 3,
   "metadata": {},
   "outputs": [],
   "source": [
    "from csv2shex.csvreader import (\n",
    "    csvreader, \n",
    "    _get_csvrow_dicts_list,\n",
    "    _get_corrected_csvrows_list, \n",
    "    _get_csvshape_dicts_list, \n",
    ")\n",
    "from csv2shex.csvrow import CSVRow\n",
    "from csv2shex.utils import pprint_df\n",
    "import pandas as pd"
   ]
  },
  {
   "cell_type": "code",
   "execution_count": 5,
   "metadata": {},
   "outputs": [
    {
     "data": {
      "text/plain": [
       "[{'shapeID': 'http://example.org/book',\n",
       "  'propertyID': 'http://purl.org/dc/terms/creator',\n",
       "  'mandatory': 'Y',\n",
       "  'repeatable': 'N',\n",
       "  'valueNodeType': '',\n",
       "  'valueDataType': '',\n",
       "  'valueConstraint': '',\n",
       "  'valueConstraintType': '',\n",
       "  'valueShape': 'http://example.org/author'},\n",
       " {'shapeID': '',\n",
       "  'propertyID': 'http://purl.org/dc/terms/subject',\n",
       "  'mandatory': '',\n",
       "  'repeatable': '',\n",
       "  'valueNodeType': '',\n",
       "  'valueDataType': '',\n",
       "  'valueConstraint': 'http://id.loc.gov/',\n",
       "  'valueConstraintType': 'IriStem',\n",
       "  'valueShape': ''},\n",
       " {'shapeID': 'http://example.org/author',\n",
       "  'propertyID': 'http://xmlns.com/foaf/0.1/name',\n",
       "  'mandatory': '',\n",
       "  'repeatable': '',\n",
       "  'valueNodeType': 'literal',\n",
       "  'valueDataType': 'http://www.w3.org/2001/XMLSchema#string',\n",
       "  'valueConstraint': '',\n",
       "  'valueConstraintType': '',\n",
       "  'valueShape': ''}]"
      ]
     },
     "execution_count": 5,
     "metadata": {},
     "output_type": "execute_result"
    }
   ],
   "source": [
    "# Reads CSV file, returns list of dicts - one per row.\n",
    "csvrow_dicts_list = _get_csvrow_dicts_list('book_ap.csv')\n",
    "csvrow_dicts_list"
   ]
  },
  {
   "cell_type": "markdown",
   "metadata": {},
   "source": [
    "For each row encountered:\n",
    "- if row has shapeID but not propertyID\n",
    "  - remembers shapeID in shapeids_list\n",
    "- if row has propertyID\n",
    "  - instantiates CSVRow\n",
    "    - if CSVRow also has a shape ID\n",
    "      - uses it\n",
    "      - otherwise gets from shapeids_list\n",
    "      - otherwise uses default shapeID\n",
    "- normalizes and validates the row"
   ]
  },
  {
   "cell_type": "code",
   "execution_count": 9,
   "metadata": {},
   "outputs": [
    {
     "data": {
      "text/plain": [
       "[{'shapeID': 'http://example.org/book',\n",
       "  'shapeLabel': None,\n",
       "  'shapeClosed': False,\n",
       "  'propertyID': 'http://purl.org/dc/terms/creator',\n",
       "  'propertyLabel': None,\n",
       "  'mandatory': True,\n",
       "  'repeatable': False,\n",
       "  'valueNodeType': '',\n",
       "  'valueDataType': '',\n",
       "  'valueConstraint': '',\n",
       "  'valueConstraintType': '',\n",
       "  'valueShape': 'http://example.org/author',\n",
       "  'note': None},\n",
       " {'shapeID': 'http://example.org/book',\n",
       "  'shapeLabel': None,\n",
       "  'shapeClosed': False,\n",
       "  'propertyID': 'http://purl.org/dc/terms/subject',\n",
       "  'propertyLabel': None,\n",
       "  'mandatory': False,\n",
       "  'repeatable': False,\n",
       "  'valueNodeType': '',\n",
       "  'valueDataType': '',\n",
       "  'valueConstraint': 'http://id.loc.gov/',\n",
       "  'valueConstraintType': 'IriStem',\n",
       "  'valueShape': '',\n",
       "  'note': None},\n",
       " {'shapeID': 'http://example.org/author',\n",
       "  'shapeLabel': None,\n",
       "  'shapeClosed': False,\n",
       "  'propertyID': 'http://xmlns.com/foaf/0.1/name',\n",
       "  'propertyLabel': None,\n",
       "  'mandatory': False,\n",
       "  'repeatable': False,\n",
       "  'valueNodeType': 'literal',\n",
       "  'valueDataType': 'http://www.w3.org/2001/XMLSchema#string',\n",
       "  'valueConstraint': '',\n",
       "  'valueConstraintType': '',\n",
       "  'valueShape': '',\n",
       "  'note': None}]"
      ]
     },
     "execution_count": 9,
     "metadata": {},
     "output_type": "execute_result"
    }
   ],
   "source": [
    "# \n",
    "corrected_csvrows_list = _get_corrected_csvrows_list(csvrow_dicts_list)\n",
    "corrected_csvrows_list"
   ]
  },
  {
   "cell_type": "code",
   "execution_count": 8,
   "metadata": {},
   "outputs": [
    {
     "data": {
      "text/plain": [
       "[CSVShape(shapeID='http://example.org/book', shapeLabel=None, shapeClosed=None, start=True, tripleconstraints_list=[{'propertyID': 'http://purl.org/dc/terms/creator', 'propertyLabel': None, 'mandatory': True, 'repeatable': False, 'valueNodeType': '', 'valueDataType': '', 'valueConstraint': '', 'valueConstraintType': '', 'valueShape': 'http://example.org/author', 'note': None}, {'propertyID': 'http://purl.org/dc/terms/subject', 'propertyLabel': None, 'mandatory': False, 'repeatable': False, 'valueNodeType': '', 'valueDataType': '', 'valueConstraint': 'http://id.loc.gov/', 'valueConstraintType': 'IriStem', 'valueShape': '', 'note': None}]),\n",
       " CSVShape(shapeID='http://example.org/author', shapeLabel=None, shapeClosed=None, start=False, tripleconstraints_list=[{'propertyID': 'http://xmlns.com/foaf/0.1/name', 'propertyLabel': None, 'mandatory': False, 'repeatable': False, 'valueNodeType': 'literal', 'valueDataType': 'http://www.w3.org/2001/XMLSchema#string', 'valueConstraint': '', 'valueConstraintType': '', 'valueShape': '', 'note': None}])]"
      ]
     },
     "execution_count": 8,
     "metadata": {},
     "output_type": "execute_result"
    }
   ],
   "source": [
    "csvshapes_list = _get_csvshape_dicts_list(corrected_csvrows_list)\n",
    "csvshapes_list"
   ]
  },
  {
   "cell_type": "code",
   "execution_count": 8,
   "metadata": {},
   "outputs": [
    {
     "ename": "NameError",
     "evalue": "name 'CSVShape' is not defined",
     "output_type": "error",
     "traceback": [
      "\u001b[0;31m---------------------------------------------------------------------------\u001b[0m",
      "\u001b[0;31mNameError\u001b[0m                                 Traceback (most recent call last)",
      "\u001b[0;32m<ipython-input-8-d97b797a1957>\u001b[0m in \u001b[0;36m<module>\u001b[0;34m\u001b[0m\n\u001b[1;32m     15\u001b[0m     \u001b[0mshapeExpr\u001b[0m\u001b[0;34m,\u001b[0m\u001b[0;34m\u001b[0m\u001b[0;34m\u001b[0m\u001b[0m\n\u001b[1;32m     16\u001b[0m )\n\u001b[0;32m---> 17\u001b[0;31m \u001b[0;32mfrom\u001b[0m \u001b[0mcsv2shex\u001b[0m\u001b[0;34m.\u001b[0m\u001b[0mmkshex\u001b[0m \u001b[0;32mimport\u001b[0m \u001b[0mgenerate_node_constraint\u001b[0m\u001b[0;34m,\u001b[0m \u001b[0madd_statement\u001b[0m\u001b[0;34m,\u001b[0m \u001b[0mshape_to_shex\u001b[0m\u001b[0;34m\u001b[0m\u001b[0;34m\u001b[0m\u001b[0m\n\u001b[0m",
      "\u001b[0;32m~/bitbucket/venvs/dcapenv/lib/python3.9/site-packages/csv2shex/mkshex.py\u001b[0m in \u001b[0;36m<module>\u001b[0;34m\u001b[0m\n\u001b[1;32m     40\u001b[0m \u001b[0;34m\u001b[0m\u001b[0m\n\u001b[1;32m     41\u001b[0m \u001b[0;34m@\u001b[0m\u001b[0mpytest\u001b[0m\u001b[0;34m.\u001b[0m\u001b[0mmark\u001b[0m\u001b[0;34m.\u001b[0m\u001b[0mskip\u001b[0m\u001b[0;34m\u001b[0m\u001b[0;34m\u001b[0m\u001b[0m\n\u001b[0;32m---> 42\u001b[0;31m \u001b[0;32mdef\u001b[0m \u001b[0madd_statement\u001b[0m\u001b[0;34m(\u001b[0m\u001b[0mshape\u001b[0m\u001b[0;34m:\u001b[0m \u001b[0mCSVShape\u001b[0m\u001b[0;34m,\u001b[0m \u001b[0mstatement\u001b[0m\u001b[0;34m:\u001b[0m \u001b[0mCSVRow\u001b[0m\u001b[0;34m)\u001b[0m \u001b[0;34m->\u001b[0m \u001b[0;32mNone\u001b[0m\u001b[0;34m:\u001b[0m\u001b[0;34m\u001b[0m\u001b[0;34m\u001b[0m\u001b[0m\n\u001b[0m\u001b[1;32m     43\u001b[0m     \u001b[0;34m\"\"\"Interpret a CSV statement and add shapeExpr to shape.\"\"\"\u001b[0m\u001b[0;34m\u001b[0m\u001b[0;34m\u001b[0m\u001b[0m\n\u001b[1;32m     44\u001b[0m     \u001b[0;31m# typing.List[typing.Union[\"EachOf\",\u001b[0m\u001b[0;34m\u001b[0m\u001b[0;34m\u001b[0m\u001b[0;34m\u001b[0m\u001b[0m\n",
      "\u001b[0;31mNameError\u001b[0m: name 'CSVShape' is not defined"
     ]
    }
   ],
   "source": [
    "from ShExJSG.SchemaWithContext import Schema\n",
    "from pyjsg.jsglib import loader\n",
    "from pyjsg.jsglib.jsg_array import JSGArray\n",
    "from pyjsg.jsglib.loader import is_valid, StringIO\n",
    "from pyshex.utils.schema_loader import SchemaLoader\n",
    "from typing import cast, Union, List, Optional\n",
    "from ShExJSG import ShExC, ShExJ\n",
    "from ShExJSG.ShExJ import (\n",
    "    EachOf,\n",
    "    IRIREF,\n",
    "    IriStem,\n",
    "    NodeConstraint,\n",
    "    Shape,\n",
    "    TripleConstraint,\n",
    "    shapeExpr,\n",
    ")\n",
    "from csv2shex.mkshex import generate_node_constraint, add_statement, shape_to_shex"
   ]
  },
  {
   "cell_type": "code",
   "execution_count": 5,
   "metadata": {},
   "outputs": [],
   "source": [
    "df = pd.read_csv(\"book_ap.csv\", skip_blank_lines=True)"
   ]
  },
  {
   "cell_type": "code",
   "execution_count": 6,
   "metadata": {},
   "outputs": [
    {
     "data": {
      "text/html": [
       "<style  type=\"text/css\" >\n",
       "    #T_7c704b42_2c0d_11eb_8041_3c15c2d7093e th {\n",
       "          text-align: left;\n",
       "    }#T_7c704b42_2c0d_11eb_8041_3c15c2d7093erow0_col0,#T_7c704b42_2c0d_11eb_8041_3c15c2d7093erow0_col1,#T_7c704b42_2c0d_11eb_8041_3c15c2d7093erow0_col2,#T_7c704b42_2c0d_11eb_8041_3c15c2d7093erow0_col3,#T_7c704b42_2c0d_11eb_8041_3c15c2d7093erow0_col4,#T_7c704b42_2c0d_11eb_8041_3c15c2d7093erow0_col5,#T_7c704b42_2c0d_11eb_8041_3c15c2d7093erow0_col6,#T_7c704b42_2c0d_11eb_8041_3c15c2d7093erow0_col7,#T_7c704b42_2c0d_11eb_8041_3c15c2d7093erow0_col8,#T_7c704b42_2c0d_11eb_8041_3c15c2d7093erow1_col0,#T_7c704b42_2c0d_11eb_8041_3c15c2d7093erow1_col1,#T_7c704b42_2c0d_11eb_8041_3c15c2d7093erow1_col2,#T_7c704b42_2c0d_11eb_8041_3c15c2d7093erow1_col3,#T_7c704b42_2c0d_11eb_8041_3c15c2d7093erow1_col4,#T_7c704b42_2c0d_11eb_8041_3c15c2d7093erow1_col5,#T_7c704b42_2c0d_11eb_8041_3c15c2d7093erow1_col6,#T_7c704b42_2c0d_11eb_8041_3c15c2d7093erow1_col7,#T_7c704b42_2c0d_11eb_8041_3c15c2d7093erow1_col8,#T_7c704b42_2c0d_11eb_8041_3c15c2d7093erow2_col0,#T_7c704b42_2c0d_11eb_8041_3c15c2d7093erow2_col1,#T_7c704b42_2c0d_11eb_8041_3c15c2d7093erow2_col2,#T_7c704b42_2c0d_11eb_8041_3c15c2d7093erow2_col3,#T_7c704b42_2c0d_11eb_8041_3c15c2d7093erow2_col4,#T_7c704b42_2c0d_11eb_8041_3c15c2d7093erow2_col5,#T_7c704b42_2c0d_11eb_8041_3c15c2d7093erow2_col6,#T_7c704b42_2c0d_11eb_8041_3c15c2d7093erow2_col7,#T_7c704b42_2c0d_11eb_8041_3c15c2d7093erow2_col8{\n",
       "            text-align:  left;\n",
       "        }</style><table id=\"T_7c704b42_2c0d_11eb_8041_3c15c2d7093e\" ><thead>    <tr>        <th class=\"blank level0\" ></th>        <th class=\"col_heading level0 col0\" >shapeID</th>        <th class=\"col_heading level0 col1\" >propertyID</th>        <th class=\"col_heading level0 col2\" >mandatory</th>        <th class=\"col_heading level0 col3\" >repeatable</th>        <th class=\"col_heading level0 col4\" >valueNodeType</th>        <th class=\"col_heading level0 col5\" >valueDataType</th>        <th class=\"col_heading level0 col6\" >valueConstraint</th>        <th class=\"col_heading level0 col7\" >valueConstraintType</th>        <th class=\"col_heading level0 col8\" >valueShape</th>    </tr></thead><tbody>\n",
       "                <tr>\n",
       "                        <th id=\"T_7c704b42_2c0d_11eb_8041_3c15c2d7093elevel0_row0\" class=\"row_heading level0 row0\" >0</th>\n",
       "                        <td id=\"T_7c704b42_2c0d_11eb_8041_3c15c2d7093erow0_col0\" class=\"data row0 col0\" >http://example.org/book</td>\n",
       "                        <td id=\"T_7c704b42_2c0d_11eb_8041_3c15c2d7093erow0_col1\" class=\"data row0 col1\" >http://purl.org/dc/terms/creator</td>\n",
       "                        <td id=\"T_7c704b42_2c0d_11eb_8041_3c15c2d7093erow0_col2\" class=\"data row0 col2\" >Y</td>\n",
       "                        <td id=\"T_7c704b42_2c0d_11eb_8041_3c15c2d7093erow0_col3\" class=\"data row0 col3\" >N</td>\n",
       "                        <td id=\"T_7c704b42_2c0d_11eb_8041_3c15c2d7093erow0_col4\" class=\"data row0 col4\" >nan</td>\n",
       "                        <td id=\"T_7c704b42_2c0d_11eb_8041_3c15c2d7093erow0_col5\" class=\"data row0 col5\" >nan</td>\n",
       "                        <td id=\"T_7c704b42_2c0d_11eb_8041_3c15c2d7093erow0_col6\" class=\"data row0 col6\" >nan</td>\n",
       "                        <td id=\"T_7c704b42_2c0d_11eb_8041_3c15c2d7093erow0_col7\" class=\"data row0 col7\" >nan</td>\n",
       "                        <td id=\"T_7c704b42_2c0d_11eb_8041_3c15c2d7093erow0_col8\" class=\"data row0 col8\" >http://example.org/author</td>\n",
       "            </tr>\n",
       "            <tr>\n",
       "                        <th id=\"T_7c704b42_2c0d_11eb_8041_3c15c2d7093elevel0_row1\" class=\"row_heading level0 row1\" >1</th>\n",
       "                        <td id=\"T_7c704b42_2c0d_11eb_8041_3c15c2d7093erow1_col0\" class=\"data row1 col0\" >nan</td>\n",
       "                        <td id=\"T_7c704b42_2c0d_11eb_8041_3c15c2d7093erow1_col1\" class=\"data row1 col1\" >http://purl.org/dc/terms/subject</td>\n",
       "                        <td id=\"T_7c704b42_2c0d_11eb_8041_3c15c2d7093erow1_col2\" class=\"data row1 col2\" >nan</td>\n",
       "                        <td id=\"T_7c704b42_2c0d_11eb_8041_3c15c2d7093erow1_col3\" class=\"data row1 col3\" >nan</td>\n",
       "                        <td id=\"T_7c704b42_2c0d_11eb_8041_3c15c2d7093erow1_col4\" class=\"data row1 col4\" >nan</td>\n",
       "                        <td id=\"T_7c704b42_2c0d_11eb_8041_3c15c2d7093erow1_col5\" class=\"data row1 col5\" >nan</td>\n",
       "                        <td id=\"T_7c704b42_2c0d_11eb_8041_3c15c2d7093erow1_col6\" class=\"data row1 col6\" >http://id.loc.gov/</td>\n",
       "                        <td id=\"T_7c704b42_2c0d_11eb_8041_3c15c2d7093erow1_col7\" class=\"data row1 col7\" >IriStem</td>\n",
       "                        <td id=\"T_7c704b42_2c0d_11eb_8041_3c15c2d7093erow1_col8\" class=\"data row1 col8\" >nan</td>\n",
       "            </tr>\n",
       "            <tr>\n",
       "                        <th id=\"T_7c704b42_2c0d_11eb_8041_3c15c2d7093elevel0_row2\" class=\"row_heading level0 row2\" >2</th>\n",
       "                        <td id=\"T_7c704b42_2c0d_11eb_8041_3c15c2d7093erow2_col0\" class=\"data row2 col0\" >http://example.org/author</td>\n",
       "                        <td id=\"T_7c704b42_2c0d_11eb_8041_3c15c2d7093erow2_col1\" class=\"data row2 col1\" >http://xmlns.com/foaf/0.1/name</td>\n",
       "                        <td id=\"T_7c704b42_2c0d_11eb_8041_3c15c2d7093erow2_col2\" class=\"data row2 col2\" >nan</td>\n",
       "                        <td id=\"T_7c704b42_2c0d_11eb_8041_3c15c2d7093erow2_col3\" class=\"data row2 col3\" >nan</td>\n",
       "                        <td id=\"T_7c704b42_2c0d_11eb_8041_3c15c2d7093erow2_col4\" class=\"data row2 col4\" >literal</td>\n",
       "                        <td id=\"T_7c704b42_2c0d_11eb_8041_3c15c2d7093erow2_col5\" class=\"data row2 col5\" >http://www.w3.org/2001/XMLSchema#string</td>\n",
       "                        <td id=\"T_7c704b42_2c0d_11eb_8041_3c15c2d7093erow2_col6\" class=\"data row2 col6\" >nan</td>\n",
       "                        <td id=\"T_7c704b42_2c0d_11eb_8041_3c15c2d7093erow2_col7\" class=\"data row2 col7\" >nan</td>\n",
       "                        <td id=\"T_7c704b42_2c0d_11eb_8041_3c15c2d7093erow2_col8\" class=\"data row2 col8\" >nan</td>\n",
       "            </tr>\n",
       "    </tbody></table>"
      ],
      "text/plain": [
       "<pandas.io.formats.style.Styler at 0x112479ee0>"
      ]
     },
     "execution_count": 6,
     "metadata": {},
     "output_type": "execute_result"
    }
   ],
   "source": [
    "pprint_df(df)"
   ]
  }
 ],
 "metadata": {
  "kernelspec": {
   "display_name": "dcapenv",
   "language": "python",
   "name": "dcapenv"
  },
  "language_info": {
   "codemirror_mode": {
    "name": "ipython",
    "version": 3
   },
   "file_extension": ".py",
   "mimetype": "text/x-python",
   "name": "python",
   "nbconvert_exporter": "python",
   "pygments_lexer": "ipython3",
   "version": "3.9.0"
  }
 },
 "nbformat": 4,
 "nbformat_minor": 4
}
