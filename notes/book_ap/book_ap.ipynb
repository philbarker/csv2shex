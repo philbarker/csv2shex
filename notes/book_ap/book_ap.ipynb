{
 "cells": [
  {
   "cell_type": "markdown",
   "metadata": {},
   "source": [
    "## Read CSV file and return list of shapes (as dicts)\n",
    "\n",
    "Source: [csvreader.py](https://github.com/tombaker/csv2shex/blob/master/csv2shex/csvreader.py)\n",
    "\n",
    "Shape elements\n",
    "- shapeID (URI)\n",
    "- shapeClosed (later)\n",
    "- shapeLabel (later: annotation)\n",
    "- start (later)\n",
    "\n",
    "Triple constraint elements\n",
    "- propertyID (URI)\n",
    "- propertyLabel (later: annotation)\n",
    "- mandatory\n",
    "- repeatable\n",
    "- valueNodeType\n",
    "- valueDataType (URI)\n",
    "- valueConstraint (URI - maybe)\n",
    "- valueConstraintType\n",
    "- valueShape (URI)\n",
    "- note (later: annotation)\n",
    "\n",
    "```\n",
    "def csvreader(csvfile):\n",
    "    \"\"\"Read CSV file and return list of CSV shapes, one dict per CSV shape.\"\"\"\n",
    "    csvrow_dicts_list = _get_csvrow_dicts_list(csvfile)\n",
    "    corrected_csvrow_dicts_list = _get_corrected_csvrows_list(csvrow_dicts_list)\n",
    "    csvshapes_list = _get_csvshape_dicts_list(corrected_csvrow_dicts_list)\n",
    "    return csvshapes_list\n",
    "```"
   ]
  },
  {
   "cell_type": "code",
   "execution_count": 28,
   "metadata": {},
   "outputs": [],
   "source": [
    "# from csv2shex.csvreader import (\n",
    "#     csvreader, \n",
    "#     _get_csvrow_dicts_list,\n",
    "#     _get_corrected_csvrows_list, \n",
    "#     _get_csvshape_dicts_list, \n",
    "# )\n",
    "from csv2shex.csvrow import CSVRow\n",
    "from csv2shex.utils import pprint_df\n",
    "import pandas as pd"
   ]
  },
  {
   "cell_type": "code",
   "execution_count": 29,
   "metadata": {},
   "outputs": [],
   "source": [
    "from csv import DictReader\n",
    "from pathlib import Path\n",
    "def _get_csvrow_dicts_list(csvfile):\n",
    "    \"\"\"Read CSV file and return list of header:value dicts, one per row.\"\"\"\n",
    "    csv_dictreader = DictReader(Path(csvfile).open(newline=\"\", encoding=\"utf-8-sig\"))\n",
    "    csvrow_dicts_list = list(csv_dictreader)\n",
    "    if \"propertyID\" not in list(csvrow_dicts_list[0].keys()):\n",
    "        raise CsvError(\"Valid DCAP CSV must have a 'propertyID' column.\")\n",
    "    return csvrow_dicts_list"
   ]
  },
  {
   "cell_type": "code",
   "execution_count": 34,
   "metadata": {},
   "outputs": [
    {
     "data": {
      "text/plain": [
       "[{'shapeID': ':book',\n",
       "  'propertyID': 'dc:creator',\n",
       "  'valueConstraint': '',\n",
       "  'valueShape': ':author'},\n",
       " {'shapeID': '',\n",
       "  'propertyID': 'dc:type',\n",
       "  'valueConstraint': 'so:Book',\n",
       "  'valueShape': ''},\n",
       " {'shapeID': ':author',\n",
       "  'propertyID': 'foaf:name',\n",
       "  'valueConstraint': '',\n",
       "  'valueShape': ''}]"
      ]
     },
     "execution_count": 34,
     "metadata": {},
     "output_type": "execute_result"
    }
   ],
   "source": [
    "# Reads CSV file, returns list of dicts - one per row.\n",
    "csvrow_dicts_list = _get_csvrow_dicts_list('minimal.csv')\n",
    "csvrow_dicts_list"
   ]
  },
  {
   "cell_type": "code",
   "execution_count": 35,
   "metadata": {},
   "outputs": [],
   "source": [
    "from csv2shex.config import CSV_MODEL\n",
    "from dataclasses import asdict\n",
    "import ruamel.yaml as yaml\n",
    "\n",
    "CSV_MODEL_DICT = yaml.safe_load(CSV_MODEL)\n",
    "\n",
    "def _get_corrected_csvrows_list(csvrow_dicts_list=None, csv_model_dict=CSV_MODEL_DICT):\n",
    "    \"\"\"Turn list of dicts into list of CSVRow objects.\"\"\"\n",
    "    corrected_csvrow_dicts_list = []\n",
    "    shapeids_list = []\n",
    "    first_shape_encountered = True\n",
    "    keys = csv_model_dict[\"shape_elements\"] + csv_model_dict[\"tconstraint_elements\"]\n",
    "    keys.remove(\"shapeID\")\n",
    "    for row in csvrow_dicts_list:\n",
    "        if not row.get(\"propertyID\") and row.get(\"shapeID\"):\n",
    "            shapeids_list.append(row[\"shapeID\"])\n",
    "            continue\n",
    "\n",
    "        stat = CSVRow()\n",
    "\n",
    "        if row.get(\"shapeID\"):\n",
    "            stat.shapeID = row[\"shapeID\"]\n",
    "        else:\n",
    "            if shapeids_list:\n",
    "                stat.shapeID = shapeids_list[-1]\n",
    "            elif not shapeids_list:\n",
    "                stat.shapeID = \":default\"\n",
    "        if stat.shapeID not in shapeids_list:\n",
    "            shapeids_list.append(stat.shapeID)\n",
    "        if first_shape_encountered:\n",
    "            first_shape_encountered = False\n",
    "\n",
    "        for key in keys:\n",
    "            if key in row:\n",
    "                setattr(stat, key, row[key])\n",
    "\n",
    "        stat.normalize()\n",
    "        stat.validate()\n",
    "        corrected_csvrow_dicts_list.append(asdict(stat))\n",
    "    return corrected_csvrow_dicts_list"
   ]
  },
  {
   "cell_type": "code",
   "execution_count": 36,
   "metadata": {},
   "outputs": [
    {
     "data": {
      "text/plain": [
       "[{'shapeID': ':book',\n",
       "  'shapeLabel': None,\n",
       "  'shapeClosed': False,\n",
       "  'propertyID': 'dc:creator',\n",
       "  'propertyLabel': None,\n",
       "  'mandatory': False,\n",
       "  'repeatable': False,\n",
       "  'valueNodeType': None,\n",
       "  'valueDataType': None,\n",
       "  'valueConstraint': '',\n",
       "  'valueConstraintType': None,\n",
       "  'valueShape': ':author',\n",
       "  'note': None},\n",
       " {'shapeID': ':book',\n",
       "  'shapeLabel': None,\n",
       "  'shapeClosed': False,\n",
       "  'propertyID': 'dc:type',\n",
       "  'propertyLabel': None,\n",
       "  'mandatory': False,\n",
       "  'repeatable': False,\n",
       "  'valueNodeType': None,\n",
       "  'valueDataType': None,\n",
       "  'valueConstraint': 'so:Book',\n",
       "  'valueConstraintType': None,\n",
       "  'valueShape': '',\n",
       "  'note': None},\n",
       " {'shapeID': ':author',\n",
       "  'shapeLabel': None,\n",
       "  'shapeClosed': False,\n",
       "  'propertyID': 'foaf:name',\n",
       "  'propertyLabel': None,\n",
       "  'mandatory': False,\n",
       "  'repeatable': False,\n",
       "  'valueNodeType': None,\n",
       "  'valueDataType': None,\n",
       "  'valueConstraint': '',\n",
       "  'valueConstraintType': None,\n",
       "  'valueShape': '',\n",
       "  'note': None}]"
      ]
     },
     "execution_count": 36,
     "metadata": {},
     "output_type": "execute_result"
    }
   ],
   "source": [
    "corrected_csvrows_list = _get_corrected_csvrows_list(csvrow_dicts_list)\n",
    "corrected_csvrows_list"
   ]
  },
  {
   "cell_type": "code",
   "execution_count": 24,
   "metadata": {},
   "outputs": [],
   "source": [
    "from typing import List\n",
    "from collections import defaultdict\n",
    "from csv2shex.csvshape import CSVShape, CSVTripleConstraint\n",
    "\n",
    "def _get_csvshape_dicts_list(csvrow_dicts_list, csv_model=CSV_MODEL) -> List[dict]:\n",
    "    \"\"\"Get list of csvshape dicts from list of csvrow dicts.\"\"\"\n",
    "    aggregator_ddict = defaultdict(dict)\n",
    "    is_first_csvrow_encountered = True\n",
    "    pvdict = dict()\n",
    "    csv_model_dict = yaml.safe_load(csv_model)\n",
    "\n",
    "    for csvrow_dict in csvrow_dicts_list:\n",
    "        if csvrow_dict[\"shapeID\"] not in aggregator_ddict.keys():\n",
    "            shap_obj = CSVShape()\n",
    "            shap_obj.shapeID = csvrow_dict[\"shapeID\"]\n",
    "            shap_obj.shapeLabel = csvrow_dict[\"shapeLabel\"]\n",
    "            shap_obj.start = bool(is_first_csvrow_encountered)\n",
    "            shap_obj.tripleconstraints_list = list()\n",
    "            aggregator_ddict[shap_obj.shapeID] = shap_obj\n",
    "            is_first_csvrow_encountered = False\n",
    "\n",
    "        for key in csv_model_dict[\"tconstraint_elements\"]:\n",
    "            pvdict[key] = csvrow_dict[key]\n",
    "\n",
    "        aggregator_ddict[shap_obj.shapeID].tripleconstraints_list.append(pvdict.copy())\n",
    "        pvdict.clear()\n",
    "\n",
    "    csvshape_dicts_list = []\n",
    "    for key in aggregator_ddict.keys():\n",
    "        csvshape_dict = aggregator_ddict[key]\n",
    "        csvshape_dicts_list.append(csvshape_dict)\n",
    "        \n",
    "    return csvshape_dicts_list"
   ]
  },
  {
   "cell_type": "code",
   "execution_count": 27,
   "metadata": {},
   "outputs": [
    {
     "data": {
      "text/plain": [
       "[{'shapeID': 'http://example.org/book',\n",
       "  'shapeLabel': None,\n",
       "  'shapeClosed': None,\n",
       "  'start': True,\n",
       "  'tripleconstraints_list': [{'propertyID': 'http://purl.org/dc/terms/creator',\n",
       "    'propertyLabel': None,\n",
       "    'mandatory': True,\n",
       "    'repeatable': False,\n",
       "    'valueNodeType': '',\n",
       "    'valueDataType': '',\n",
       "    'valueConstraint': '',\n",
       "    'valueConstraintType': '',\n",
       "    'valueShape': 'http://example.org/author',\n",
       "    'note': None},\n",
       "   {'propertyID': 'http://purl.org/dc/terms/subject',\n",
       "    'propertyLabel': None,\n",
       "    'mandatory': False,\n",
       "    'repeatable': False,\n",
       "    'valueNodeType': '',\n",
       "    'valueDataType': '',\n",
       "    'valueConstraint': 'http://id.loc.gov/',\n",
       "    'valueConstraintType': 'IriStem',\n",
       "    'valueShape': '',\n",
       "    'note': None}]},\n",
       " {'shapeID': 'http://example.org/author',\n",
       "  'shapeLabel': None,\n",
       "  'shapeClosed': None,\n",
       "  'start': False,\n",
       "  'tripleconstraints_list': [{'propertyID': 'http://xmlns.com/foaf/0.1/name',\n",
       "    'propertyLabel': None,\n",
       "    'mandatory': False,\n",
       "    'repeatable': False,\n",
       "    'valueNodeType': 'literal',\n",
       "    'valueDataType': 'http://www.w3.org/2001/XMLSchema#string',\n",
       "    'valueConstraint': '',\n",
       "    'valueConstraintType': '',\n",
       "    'valueShape': '',\n",
       "    'note': None}]}]"
      ]
     },
     "execution_count": 27,
     "metadata": {},
     "output_type": "execute_result"
    }
   ],
   "source": [
    "csvshapes_list = _get_csvshape_dicts_list(corrected_csvrows_list)\n",
    "[vars(x) for x in csvshapes_list]"
   ]
  },
  {
   "cell_type": "code",
   "execution_count": 5,
   "metadata": {},
   "outputs": [],
   "source": [
    "from ShExJSG.SchemaWithContext import Schema\n",
    "from pyjsg.jsglib import loader\n",
    "from pyjsg.jsglib.jsg_array import JSGArray\n",
    "from pyjsg.jsglib.loader import is_valid, StringIO\n",
    "from pyshex.utils.schema_loader import SchemaLoader\n",
    "from typing import cast, Union, List, Optional\n",
    "from ShExJSG import ShExC, ShExJ\n",
    "from ShExJSG.ShExJ import (\n",
    "    EachOf,\n",
    "    IRIREF,\n",
    "    IriStem,\n",
    "    NodeConstraint,\n",
    "    Shape,\n",
    "    TripleConstraint,\n",
    "    shapeExpr,\n",
    ")\n",
    "from csv2shex.mkshex import generate_node_constraint, add_statement, shape_to_shex"
   ]
  },
  {
   "cell_type": "code",
   "execution_count": 6,
   "metadata": {},
   "outputs": [],
   "source": [
    "df = pd.read_csv(\"book_ap.csv\", skip_blank_lines=True)"
   ]
  },
  {
   "cell_type": "code",
   "execution_count": 7,
   "metadata": {},
   "outputs": [
    {
     "data": {
      "text/html": [
       "<style  type=\"text/css\" >\n",
       "    #T_296a0560_2fb3_11eb_9555_3c15c2d7093e th {\n",
       "          text-align: left;\n",
       "    }#T_296a0560_2fb3_11eb_9555_3c15c2d7093erow0_col0,#T_296a0560_2fb3_11eb_9555_3c15c2d7093erow0_col1,#T_296a0560_2fb3_11eb_9555_3c15c2d7093erow0_col2,#T_296a0560_2fb3_11eb_9555_3c15c2d7093erow0_col3,#T_296a0560_2fb3_11eb_9555_3c15c2d7093erow0_col4,#T_296a0560_2fb3_11eb_9555_3c15c2d7093erow0_col5,#T_296a0560_2fb3_11eb_9555_3c15c2d7093erow0_col6,#T_296a0560_2fb3_11eb_9555_3c15c2d7093erow0_col7,#T_296a0560_2fb3_11eb_9555_3c15c2d7093erow0_col8,#T_296a0560_2fb3_11eb_9555_3c15c2d7093erow1_col0,#T_296a0560_2fb3_11eb_9555_3c15c2d7093erow1_col1,#T_296a0560_2fb3_11eb_9555_3c15c2d7093erow1_col2,#T_296a0560_2fb3_11eb_9555_3c15c2d7093erow1_col3,#T_296a0560_2fb3_11eb_9555_3c15c2d7093erow1_col4,#T_296a0560_2fb3_11eb_9555_3c15c2d7093erow1_col5,#T_296a0560_2fb3_11eb_9555_3c15c2d7093erow1_col6,#T_296a0560_2fb3_11eb_9555_3c15c2d7093erow1_col7,#T_296a0560_2fb3_11eb_9555_3c15c2d7093erow1_col8,#T_296a0560_2fb3_11eb_9555_3c15c2d7093erow2_col0,#T_296a0560_2fb3_11eb_9555_3c15c2d7093erow2_col1,#T_296a0560_2fb3_11eb_9555_3c15c2d7093erow2_col2,#T_296a0560_2fb3_11eb_9555_3c15c2d7093erow2_col3,#T_296a0560_2fb3_11eb_9555_3c15c2d7093erow2_col4,#T_296a0560_2fb3_11eb_9555_3c15c2d7093erow2_col5,#T_296a0560_2fb3_11eb_9555_3c15c2d7093erow2_col6,#T_296a0560_2fb3_11eb_9555_3c15c2d7093erow2_col7,#T_296a0560_2fb3_11eb_9555_3c15c2d7093erow2_col8{\n",
       "            text-align:  left;\n",
       "        }</style><table id=\"T_296a0560_2fb3_11eb_9555_3c15c2d7093e\" ><thead>    <tr>        <th class=\"blank level0\" ></th>        <th class=\"col_heading level0 col0\" >shapeID</th>        <th class=\"col_heading level0 col1\" >propertyID</th>        <th class=\"col_heading level0 col2\" >mandatory</th>        <th class=\"col_heading level0 col3\" >repeatable</th>        <th class=\"col_heading level0 col4\" >valueNodeType</th>        <th class=\"col_heading level0 col5\" >valueDataType</th>        <th class=\"col_heading level0 col6\" >valueConstraint</th>        <th class=\"col_heading level0 col7\" >valueConstraintType</th>        <th class=\"col_heading level0 col8\" >valueShape</th>    </tr></thead><tbody>\n",
       "                <tr>\n",
       "                        <th id=\"T_296a0560_2fb3_11eb_9555_3c15c2d7093elevel0_row0\" class=\"row_heading level0 row0\" >0</th>\n",
       "                        <td id=\"T_296a0560_2fb3_11eb_9555_3c15c2d7093erow0_col0\" class=\"data row0 col0\" >http://example.org/book</td>\n",
       "                        <td id=\"T_296a0560_2fb3_11eb_9555_3c15c2d7093erow0_col1\" class=\"data row0 col1\" >http://purl.org/dc/terms/creator</td>\n",
       "                        <td id=\"T_296a0560_2fb3_11eb_9555_3c15c2d7093erow0_col2\" class=\"data row0 col2\" >Y</td>\n",
       "                        <td id=\"T_296a0560_2fb3_11eb_9555_3c15c2d7093erow0_col3\" class=\"data row0 col3\" >N</td>\n",
       "                        <td id=\"T_296a0560_2fb3_11eb_9555_3c15c2d7093erow0_col4\" class=\"data row0 col4\" >nan</td>\n",
       "                        <td id=\"T_296a0560_2fb3_11eb_9555_3c15c2d7093erow0_col5\" class=\"data row0 col5\" >nan</td>\n",
       "                        <td id=\"T_296a0560_2fb3_11eb_9555_3c15c2d7093erow0_col6\" class=\"data row0 col6\" >nan</td>\n",
       "                        <td id=\"T_296a0560_2fb3_11eb_9555_3c15c2d7093erow0_col7\" class=\"data row0 col7\" >nan</td>\n",
       "                        <td id=\"T_296a0560_2fb3_11eb_9555_3c15c2d7093erow0_col8\" class=\"data row0 col8\" >http://example.org/author</td>\n",
       "            </tr>\n",
       "            <tr>\n",
       "                        <th id=\"T_296a0560_2fb3_11eb_9555_3c15c2d7093elevel0_row1\" class=\"row_heading level0 row1\" >1</th>\n",
       "                        <td id=\"T_296a0560_2fb3_11eb_9555_3c15c2d7093erow1_col0\" class=\"data row1 col0\" >nan</td>\n",
       "                        <td id=\"T_296a0560_2fb3_11eb_9555_3c15c2d7093erow1_col1\" class=\"data row1 col1\" >http://purl.org/dc/terms/subject</td>\n",
       "                        <td id=\"T_296a0560_2fb3_11eb_9555_3c15c2d7093erow1_col2\" class=\"data row1 col2\" >nan</td>\n",
       "                        <td id=\"T_296a0560_2fb3_11eb_9555_3c15c2d7093erow1_col3\" class=\"data row1 col3\" >nan</td>\n",
       "                        <td id=\"T_296a0560_2fb3_11eb_9555_3c15c2d7093erow1_col4\" class=\"data row1 col4\" >nan</td>\n",
       "                        <td id=\"T_296a0560_2fb3_11eb_9555_3c15c2d7093erow1_col5\" class=\"data row1 col5\" >nan</td>\n",
       "                        <td id=\"T_296a0560_2fb3_11eb_9555_3c15c2d7093erow1_col6\" class=\"data row1 col6\" >http://id.loc.gov/</td>\n",
       "                        <td id=\"T_296a0560_2fb3_11eb_9555_3c15c2d7093erow1_col7\" class=\"data row1 col7\" >IriStem</td>\n",
       "                        <td id=\"T_296a0560_2fb3_11eb_9555_3c15c2d7093erow1_col8\" class=\"data row1 col8\" >nan</td>\n",
       "            </tr>\n",
       "            <tr>\n",
       "                        <th id=\"T_296a0560_2fb3_11eb_9555_3c15c2d7093elevel0_row2\" class=\"row_heading level0 row2\" >2</th>\n",
       "                        <td id=\"T_296a0560_2fb3_11eb_9555_3c15c2d7093erow2_col0\" class=\"data row2 col0\" >http://example.org/author</td>\n",
       "                        <td id=\"T_296a0560_2fb3_11eb_9555_3c15c2d7093erow2_col1\" class=\"data row2 col1\" >http://xmlns.com/foaf/0.1/name</td>\n",
       "                        <td id=\"T_296a0560_2fb3_11eb_9555_3c15c2d7093erow2_col2\" class=\"data row2 col2\" >nan</td>\n",
       "                        <td id=\"T_296a0560_2fb3_11eb_9555_3c15c2d7093erow2_col3\" class=\"data row2 col3\" >nan</td>\n",
       "                        <td id=\"T_296a0560_2fb3_11eb_9555_3c15c2d7093erow2_col4\" class=\"data row2 col4\" >literal</td>\n",
       "                        <td id=\"T_296a0560_2fb3_11eb_9555_3c15c2d7093erow2_col5\" class=\"data row2 col5\" >http://www.w3.org/2001/XMLSchema#string</td>\n",
       "                        <td id=\"T_296a0560_2fb3_11eb_9555_3c15c2d7093erow2_col6\" class=\"data row2 col6\" >nan</td>\n",
       "                        <td id=\"T_296a0560_2fb3_11eb_9555_3c15c2d7093erow2_col7\" class=\"data row2 col7\" >nan</td>\n",
       "                        <td id=\"T_296a0560_2fb3_11eb_9555_3c15c2d7093erow2_col8\" class=\"data row2 col8\" >nan</td>\n",
       "            </tr>\n",
       "    </tbody></table>"
      ],
      "text/plain": [
       "<pandas.io.formats.style.Styler at 0x104457640>"
      ]
     },
     "execution_count": 7,
     "metadata": {},
     "output_type": "execute_result"
    }
   ],
   "source": [
    "pprint_df(df)"
   ]
  },
  {
   "cell_type": "code",
   "execution_count": null,
   "metadata": {},
   "outputs": [],
   "source": []
  }
 ],
 "metadata": {
  "kernelspec": {
   "display_name": "dcapenv",
   "language": "python",
   "name": "dcapenv"
  },
  "language_info": {
   "codemirror_mode": {
    "name": "ipython",
    "version": 3
   },
   "file_extension": ".py",
   "mimetype": "text/x-python",
   "name": "python",
   "nbconvert_exporter": "python",
   "pygments_lexer": "ipython3",
   "version": "3.9.0"
  }
 },
 "nbformat": 4,
 "nbformat_minor": 4
}
