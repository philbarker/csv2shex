{
 "cells": [
  {
   "cell_type": "markdown",
   "metadata": {},
   "source": [
    "### Import"
   ]
  },
  {
   "cell_type": "code",
   "execution_count": 26,
   "metadata": {},
   "outputs": [],
   "source": [
    "from dataclasses import dataclass, field, asdict\n",
    "from typing import List\n",
    "from csv2shex.csvreader import (\n",
    "    csvreader, \n",
    "    _get_csvrow_dicts_list,\n",
    "    _get_corrected_csvrows_list, \n",
    "    _get_csvshape_dicts_list, \n",
    ")\n",
    "from csv2shex.csvrow import CSVRow\n",
    "from csv2shex.utils import pprint_df\n",
    "import pandas as pd"
   ]
  },
  {
   "cell_type": "markdown",
   "metadata": {},
   "source": [
    "### Declare"
   ]
  },
  {
   "cell_type": "code",
   "execution_count": 27,
   "metadata": {},
   "outputs": [],
   "source": [
    "@dataclass\n",
    "class CSVTripleConstraint:\n",
    "    \"\"\"Instances hold TAP/CSV row elements that form a triple constraint.\"\"\"\n",
    "    propertyID: str = None\n",
    "    valueConstraint: str = None\n",
    "    valueShape: str = None\n",
    "    extras: field(default_factory=dict) = None\n",
    "    # propertyLabel: str = None\n",
    "    # mandatory: str = None\n",
    "    # repeatable: str = None\n",
    "    # valueNodeType: str = None\n",
    "    # valueDataType: str = None\n",
    "    # valueConstraintType: str = None\n",
    "    # note: str = None\n",
    "\n",
    "@dataclass\n",
    "class CSVShape:\n",
    "    \"\"\"Instances hold TAP/CSV row elements that form a shape.\"\"\"\n",
    "    shapeID: str = None\n",
    "    # shapeLabel: str = None\n",
    "    # shapeClosed: str = None\n",
    "    # start: bool = False\n",
    "    tripleconstraints_list: List[CSVTripleConstraint] = field(default_factory=list)\n",
    "\n",
    "@dataclass\n",
    "class CSVSchema:\n",
    "    \"\"\"Set of shapes.\"\"\""
   ]
  },
  {
   "cell_type": "code",
   "execution_count": 28,
   "metadata": {},
   "outputs": [],
   "source": [
    "csvrow_dicts_list = [{'shapeID': ':book',\n",
    "  'propertyID': 'dc:creator',\n",
    "  'valueConstraint': '',\n",
    "  'valueShape': ':author'},\n",
    " {'shapeID': '',\n",
    "  'propertyID': 'dc:type',\n",
    "  'valueConstraint': 'so:Book',\n",
    "  'valueShape': ''},\n",
    " {'shapeID': ':author',\n",
    "  'propertyID': 'foaf:name',\n",
    "  'valueConstraint': '',\n",
    "  'valueShape': ''}]"
   ]
  },
  {
   "cell_type": "markdown",
   "metadata": {},
   "source": [
    "### For each row\n",
    "#### 1. Initialize instance of CSVShape"
   ]
  },
  {
   "cell_type": "code",
   "execution_count": 29,
   "metadata": {},
   "outputs": [
    {
     "data": {
      "text/plain": [
       "{'b': CSVShape(shapeID='b', shapeLabel='label', shapeClosed=False, start=True, tripleconstraints_list=[]),\n",
       " 'c': CSVShape(shapeID=':author', tripleconstraints_list=[])}"
      ]
     },
     "execution_count": 29,
     "metadata": {},
     "output_type": "execute_result"
    }
   ],
   "source": [
    "for row in csvrow_dicts_list:\n",
    "    shape = CSVShape()\n",
    "    shape.shapeID = row[\"shapeID\"]\n",
    "    shape.tripleconstraints_list = list()\n",
    "\n",
    "dict_of_shape_objs[shape_dict[\"shapeID\"]] = shape\n",
    "dict_of_shape_objs"
   ]
  },
  {
   "cell_type": "markdown",
   "metadata": {},
   "source": [
    "#### 2. On finding new shapeID, capture shape-related elements in a shape_dict."
   ]
  },
  {
   "cell_type": "code",
   "execution_count": 4,
   "metadata": {},
   "outputs": [
    {
     "data": {
      "text/plain": [
       "{'shapeID': 'b',\n",
       " 'shapeLabel': 'label',\n",
       " 'shapeClosed': False,\n",
       " 'start': True,\n",
       " 'tripleconstraints_list': []}"
      ]
     },
     "execution_count": 4,
     "metadata": {},
     "output_type": "execute_result"
    }
   ],
   "source": [
    "shape_dict = dict()\n",
    "shape_dict[\"shapeID\"] = \"b\"\n",
    "shape_dict[\"shapeLabel\"] = \"label\"\n",
    "shape_dict[\"shapeClosed\"] = False\n",
    "shape_dict[\"start\"] = True\n",
    "shape_dict[\"tripleconstraints_list\"] = list()\n",
    "shape_dict"
   ]
  },
  {
   "cell_type": "markdown",
   "metadata": {},
   "source": [
    "#### 3. Assign CSVShape instance as value to key \"shapeID\" in dict_of_shape_objs"
   ]
  },
  {
   "cell_type": "code",
   "execution_count": 8,
   "metadata": {},
   "outputs": [
    {
     "data": {
      "text/plain": [
       "{'b': CSVShape(shapeID='b', shapeLabel='label', shapeClosed=False, start=True, tripleconstraints_list=[])}"
      ]
     },
     "execution_count": 8,
     "metadata": {},
     "output_type": "execute_result"
    }
   ],
   "source": [
    "dict_of_shape_objs = dict()\n",
    "dict_of_shape_objs[shape_dict[\"shapeID\"]] = cshap\n",
    "dict_of_shape_objs"
   ]
  },
  {
   "cell_type": "code",
   "execution_count": 9,
   "metadata": {},
   "outputs": [
    {
     "data": {
      "text/plain": [
       "True"
      ]
     },
     "execution_count": 9,
     "metadata": {},
     "output_type": "execute_result"
    }
   ],
   "source": [
    "\"b\" in dict_of_shape_objs"
   ]
  },
  {
   "cell_type": "code",
   "execution_count": 10,
   "metadata": {},
   "outputs": [
    {
     "data": {
      "text/plain": [
       "[]"
      ]
     },
     "execution_count": 10,
     "metadata": {},
     "output_type": "execute_result"
    }
   ],
   "source": [
    "# Triple constraints list for shape \"b\"\n",
    "dict_of_shape_objs[\"b\"].tripleconstraints_list"
   ]
  },
  {
   "cell_type": "markdown",
   "metadata": {},
   "source": [
    "#### 4. Each new shape is added to dict_of_shape_dicts."
   ]
  },
  {
   "cell_type": "code",
   "execution_count": 13,
   "metadata": {},
   "outputs": [
    {
     "data": {
      "text/plain": [
       "{'b': CSVShape(shapeID='b', shapeLabel='label', shapeClosed=False, start=True, tripleconstraints_list=[]),\n",
       " 'c': CSVShape(shapeID='c', shapeLabel='clabel', shapeClosed=False, start=False, tripleconstraints_list=[])}"
      ]
     },
     "execution_count": 13,
     "metadata": {},
     "output_type": "execute_result"
    }
   ],
   "source": [
    "shape_dict = dict()\n",
    "shape_dict[\"shapeID\"] = \"c\"\n",
    "shape_dict[\"shapeLabel\"] = \"clabel\"\n",
    "shape_dict[\"shapeClosed\"] = False\n",
    "shape_dict[\"start\"] = False\n",
    "shape_dict[\"tripleconstraints_list\"] = list()\n",
    "\n",
    "dict_of_shape_objs[shape_dict[\"shapeID\"]] = CSVShape(**shape_dict)\n",
    "dict_of_shape_objs"
   ]
  },
  {
   "cell_type": "code",
   "execution_count": 14,
   "metadata": {},
   "outputs": [
    {
     "data": {
      "text/plain": [
       "dict_keys(['b', 'c'])"
      ]
     },
     "execution_count": 14,
     "metadata": {},
     "output_type": "execute_result"
    }
   ],
   "source": [
    "dict_of_shape_objs.keys()"
   ]
  },
  {
   "cell_type": "code",
   "execution_count": 50,
   "metadata": {},
   "outputs": [
    {
     "data": {
      "text/plain": [
       "'c'"
      ]
     },
     "execution_count": 50,
     "metadata": {},
     "output_type": "execute_result"
    }
   ],
   "source": [
    "# After first row, for rows that lack shapeIDs, get most-recently-inserted key from dict_of_shape_dicts\n",
    "list(dict_of_shape_objs.keys())[-1]"
   ]
  },
  {
   "cell_type": "markdown",
   "metadata": {},
   "source": [
    "#### 4."
   ]
  },
  {
   "cell_type": "code",
   "execution_count": 51,
   "metadata": {},
   "outputs": [
    {
     "data": {
      "text/plain": [
       "{'b': CSVShape(shapeID='b', shapeLabel='label', shapeClosed=False, start=True, tripleconstraints_list=[{'propertyID': 'dc:type', 'valueConstraint': 'foaf:Person'}]),\n",
       " 'c': CSVShape(shapeID='c', shapeLabel='clabel', shapeClosed=False, start=False, tripleconstraints_list=[])}"
      ]
     },
     "execution_count": 51,
     "metadata": {},
     "output_type": "execute_result"
    }
   ],
   "source": [
    "# Problem: append multiple triple constraint dicts to tripleconstraints_list\n",
    "tc_dict = dict()\n",
    "tc_dict[\"propertyID\"] = \"dc:type\"\n",
    "tc_dict[\"valueConstraint\"] = \"foaf:Person\"\n",
    "dict_of_shape_objs[\"b\"].tripleconstraints_list.append(tc_dict)\n",
    "dict_of_shape_objs"
   ]
  },
  {
   "cell_type": "code",
   "execution_count": 52,
   "metadata": {},
   "outputs": [
    {
     "data": {
      "text/plain": [
       "CSVTripleConstraint(propertyID='dc:creator', valueConstraint='http://example.org/person1', valueShape=None, extras=None)"
      ]
     },
     "execution_count": 52,
     "metadata": {},
     "output_type": "execute_result"
    }
   ],
   "source": [
    "# Problem: append multiple triple constraint dicts to tripleconstraints_list\n",
    "tc_dict = dict()\n",
    "tc_dict[\"propertyID\"] = \"dc:creator\"\n",
    "tc_dict[\"valueConstraint\"] = \"http://example.org/person1\"\n",
    "tc_obj = CSVTripleConstraint(**tc_dict)\n",
    "tc_obj"
   ]
  },
  {
   "cell_type": "code",
   "execution_count": 53,
   "metadata": {},
   "outputs": [
    {
     "data": {
      "text/plain": [
       "{'b': CSVShape(shapeID='b', shapeLabel='label', shapeClosed=False, start=True, tripleconstraints_list=[{'propertyID': 'dc:type', 'valueConstraint': 'foaf:Person'}]),\n",
       " 'c': CSVShape(shapeID='c', shapeLabel='clabel', shapeClosed=False, start=False, tripleconstraints_list=[])}"
      ]
     },
     "execution_count": 53,
     "metadata": {},
     "output_type": "execute_result"
    }
   ],
   "source": [
    "CSVTripleConstraint(**tc_dict)\n",
    "dict_of_shape_objs"
   ]
  },
  {
   "cell_type": "code",
   "execution_count": 54,
   "metadata": {},
   "outputs": [
    {
     "data": {
      "text/plain": [
       "{'shapeID': 'b',\n",
       " 'shapeLabel': 'label',\n",
       " 'shapeClosed': False,\n",
       " 'start': True,\n",
       " 'tripleconstraints_list': [{'propertyID': 'dc:type',\n",
       "   'valueConstraint': 'foaf:Person'},\n",
       "  {'propertyID': 'dc:creator',\n",
       "   'valueConstraint': 'http://example.org/person1'}]}"
      ]
     },
     "execution_count": 54,
     "metadata": {},
     "output_type": "execute_result"
    }
   ],
   "source": [
    "# This is to pretty-print the entire CSVShape\n",
    "vars(CSVShape(shapeID='b', shapeLabel='label', shapeClosed=False, start=True, tripleconstraints_list=[\n",
    "{'propertyID': 'dc:type', 'valueConstraint': 'foaf:Person'}, \n",
    "{'propertyID': 'dc:creator', 'valueConstraint': 'http://example.org/person1'}]))"
   ]
  }
 ],
 "metadata": {
  "kernelspec": {
   "display_name": "dcapenv",
   "language": "python",
   "name": "dcapenv"
  },
  "language_info": {
   "codemirror_mode": {
    "name": "ipython",
    "version": 3
   },
   "file_extension": ".py",
   "mimetype": "text/x-python",
   "name": "python",
   "nbconvert_exporter": "python",
   "pygments_lexer": "ipython3",
   "version": "3.9.0"
  }
 },
 "nbformat": 4,
 "nbformat_minor": 4
}
