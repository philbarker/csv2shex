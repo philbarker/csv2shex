{
 "cells": [
  {
   "cell_type": "markdown",
   "metadata": {},
   "source": [
    "```\n",
    "Reads CSV file\n",
    "- returns list of dicts, one per row\n",
    "Reads list of dicts, one per row\n",
    "- If row has no propertyID, row is ignored (for now, drop \"shape on own line\")\n",
    "- Otherwise (ie, row has propertyID):\n",
    "  - If FIRST_ROW_ENCOUNTERED is True:\n",
    "    - start = True\n",
    "    - If shapeID is not specified \n",
    "      - Assign default shapeID\n",
    "      - csvshape_dict[\"shapeID\"] = shapeID (either exists or was assigned default)\n",
    "      - csvshape_dict[\"shapeLabel\"] = shapeLabel (use if exists)\n",
    "      - csvshape_dict[\"shapeClosed\"] = shapeClosed \n",
    "      - csvshape_dict[\"shapeFirst\"] = shapeFirst\n",
    "      - csvshape_dict[\"start\"] = True\n",
    "    - FIRST_ROW_ENCOUNTERED = False\n",
    "\n",
    "    - If shapeID in \n",
    "    - Append csvshape_dict to csvshape_dicts_list\n",
    "    - Clear csvshape_dict\n",
    "    - Instantiate CSVShape as cs\n",
    " \n",
    "\n",
    "  - If FIRST_ROW_ENCOUNTERED is False:\n",
    "    - If shapeID is NOT specified \n",
    "      - shapeID = csvshape_dicts_list[-1] # last item\n",
    "      - And shapeID exists in shapeid_dict\n",
    "        - Use it\n",
    "      - And shapeID does not yet exist in shapeid_dict\n",
    "        - Append to shapeid_dict:\n",
    "          - { \"shapeID\": (shapeLabel, shapeClosed, shapeFirst) }\n",
    "    - Instantiates CSVShape\n",
    "      - If CSVShape has a valid value for shapeID, this is used\n",
    "      - If CSVShape does not have a shapeID\n",
    "        - Gets latest shapeID from shapeids_list\n",
    "        - For rest of the fields in CSVShape:\n",
    "          - Assigns values (if present) to CSVShape\n",
    "      - CSVShape validates itself\n",
    "```"
   ]
  },
  {
   "cell_type": "markdown",
   "metadata": {},
   "source": [
    "### Import"
   ]
  },
  {
   "cell_type": "code",
   "execution_count": 39,
   "metadata": {},
   "outputs": [],
   "source": [
    "from dataclasses import dataclass, field, asdict\n",
    "from typing import List\n",
    "from csv2shex.csvreader import (\n",
    "    csvreader, \n",
    "    _get_csvrow_dicts_list,\n",
    "    _get_corrected_csvrows_list, \n",
    "    _get_csvshape_dicts_list, \n",
    ")\n",
    "from csv2shex.csvrow import CSVRow\n",
    "from csv2shex.utils import pprint_df\n",
    "import pandas as pd"
   ]
  },
  {
   "cell_type": "markdown",
   "metadata": {},
   "source": [
    "### Declare"
   ]
  },
  {
   "cell_type": "code",
   "execution_count": 40,
   "metadata": {},
   "outputs": [],
   "source": [
    "@dataclass\n",
    "class CSVTripleConstraint:\n",
    "    \"\"\"Instances hold TAP/CSV row elements that form a triple constraint.\"\"\"\n",
    "    propertyID: str = None\n",
    "    valueConstraint: str = None\n",
    "    valueShape: str = None\n",
    "    extras: field(default_factory=dict) = None\n",
    "    # propertyLabel: str = None\n",
    "    # mandatory: str = None\n",
    "    # repeatable: str = None\n",
    "    # valueNodeType: str = None\n",
    "    # valueDataType: str = None\n",
    "    # valueConstraintType: str = None\n",
    "    # note: str = None\n",
    "\n",
    "@dataclass\n",
    "class CSVShape:\n",
    "    \"\"\"Instances hold TAP/CSV row elements that form a shape.\"\"\"\n",
    "    shapeID: str = None\n",
    "    shapeLabel: str = None\n",
    "    shapeClosed: str = None\n",
    "    start: bool = False\n",
    "    tripleconstraints_list: List[CSVTripleConstraint] = field(default_factory=list)\n",
    "\n",
    "@dataclass\n",
    "class CSVSchema:\n",
    "    \"\"\"Set of shapes.\"\"\""
   ]
  },
  {
   "cell_type": "markdown",
   "metadata": {},
   "source": [
    "### For each row\n",
    "#### 1. On finding new shapeID, capture shape-related elements in a shape_dict."
   ]
  },
  {
   "cell_type": "code",
   "execution_count": 41,
   "metadata": {},
   "outputs": [
    {
     "data": {
      "text/plain": [
       "{'shapeID': 'b',\n",
       " 'shapeLabel': 'label',\n",
       " 'shapeClosed': False,\n",
       " 'start': True,\n",
       " 'tripleconstraints_list': []}"
      ]
     },
     "execution_count": 41,
     "metadata": {},
     "output_type": "execute_result"
    }
   ],
   "source": [
    "shape_dict = dict()\n",
    "shape_dict[\"shapeID\"] = \"b\"\n",
    "shape_dict[\"shapeLabel\"] = \"label\"\n",
    "shape_dict[\"shapeClosed\"] = False\n",
    "shape_dict[\"start\"] = True\n",
    "shape_dict[\"tripleconstraints_list\"] = list()\n",
    "shape_dict"
   ]
  },
  {
   "cell_type": "markdown",
   "metadata": {},
   "source": [
    "#### 2. Initialize CSVShape instance with shape_dict, attach to dict_of_shape_dicts."
   ]
  },
  {
   "cell_type": "code",
   "execution_count": 42,
   "metadata": {},
   "outputs": [
    {
     "data": {
      "text/plain": [
       "{'b': CSVShape(shapeID='b', shapeLabel='label', shapeClosed=False, start=True, tripleconstraints_list=[])}"
      ]
     },
     "execution_count": 42,
     "metadata": {},
     "output_type": "execute_result"
    }
   ],
   "source": [
    "dict_of_shape_objs = dict()\n",
    "dict_of_shape_objs[shape_dict[\"shapeID\"]] = CSVShape(**shape_dict)\n",
    "dict_of_shape_objs"
   ]
  },
  {
   "cell_type": "code",
   "execution_count": 43,
   "metadata": {},
   "outputs": [
    {
     "data": {
      "text/plain": [
       "CSVShape(shapeID='b', shapeLabel='label', shapeClosed=False, start=True, tripleconstraints_list=[])"
      ]
     },
     "execution_count": 43,
     "metadata": {},
     "output_type": "execute_result"
    }
   ],
   "source": [
    "dict_of_shape_objs[\"b\"]"
   ]
  },
  {
   "cell_type": "code",
   "execution_count": 44,
   "metadata": {},
   "outputs": [
    {
     "data": {
      "text/plain": [
       "True"
      ]
     },
     "execution_count": 44,
     "metadata": {},
     "output_type": "execute_result"
    }
   ],
   "source": [
    "\"b\" in dict_of_shape_objs"
   ]
  },
  {
   "cell_type": "code",
   "execution_count": 45,
   "metadata": {},
   "outputs": [
    {
     "data": {
      "text/plain": [
       "[]"
      ]
     },
     "execution_count": 45,
     "metadata": {},
     "output_type": "execute_result"
    }
   ],
   "source": [
    "# List of triple constraint dicts for shapeID is addressable.\n",
    "dict_of_shape_objs[\"b\"].tripleconstraints_list"
   ]
  },
  {
   "cell_type": "markdown",
   "metadata": {},
   "source": [
    "#### 3. On finding new shape, add to dict_of_shape_dicts."
   ]
  },
  {
   "cell_type": "code",
   "execution_count": 46,
   "metadata": {},
   "outputs": [],
   "source": [
    "shape_dict = dict()\n",
    "shape_dict[\"shapeID\"] = \"c\"\n",
    "shape_dict[\"shapeLabel\"] = \"clabel\"\n",
    "shape_dict[\"shapeClosed\"] = False\n",
    "shape_dict[\"start\"] = False\n",
    "shape_dict[\"tripleconstraints_list\"] = list()"
   ]
  },
  {
   "cell_type": "code",
   "execution_count": 47,
   "metadata": {},
   "outputs": [
    {
     "data": {
      "text/plain": [
       "{'b': CSVShape(shapeID='b', shapeLabel='label', shapeClosed=False, start=True, tripleconstraints_list=[])}"
      ]
     },
     "execution_count": 47,
     "metadata": {},
     "output_type": "execute_result"
    }
   ],
   "source": [
    "dict_of_shape_objs"
   ]
  },
  {
   "cell_type": "code",
   "execution_count": 48,
   "metadata": {},
   "outputs": [
    {
     "data": {
      "text/plain": [
       "{'b': CSVShape(shapeID='b', shapeLabel='label', shapeClosed=False, start=True, tripleconstraints_list=[]),\n",
       " 'c': CSVShape(shapeID='c', shapeLabel='clabel', shapeClosed=False, start=False, tripleconstraints_list=[])}"
      ]
     },
     "execution_count": 48,
     "metadata": {},
     "output_type": "execute_result"
    }
   ],
   "source": [
    "dict_of_shape_objs[shape_dict[\"shapeID\"]] = CSVShape(**shape_dict)\n",
    "dict_of_shape_objs"
   ]
  },
  {
   "cell_type": "code",
   "execution_count": 49,
   "metadata": {},
   "outputs": [
    {
     "data": {
      "text/plain": [
       "dict_keys(['b', 'c'])"
      ]
     },
     "execution_count": 49,
     "metadata": {},
     "output_type": "execute_result"
    }
   ],
   "source": [
    "dict_of_shape_objs.keys()"
   ]
  },
  {
   "cell_type": "code",
   "execution_count": 50,
   "metadata": {},
   "outputs": [
    {
     "data": {
      "text/plain": [
       "'c'"
      ]
     },
     "execution_count": 50,
     "metadata": {},
     "output_type": "execute_result"
    }
   ],
   "source": [
    "# After first row, for rows that lack shapeIDs, get most-recently-inserted key from dict_of_shape_dicts\n",
    "list(dict_of_shape_objs.keys())[-1]"
   ]
  },
  {
   "cell_type": "markdown",
   "metadata": {},
   "source": [
    "#### 4."
   ]
  },
  {
   "cell_type": "code",
   "execution_count": 51,
   "metadata": {},
   "outputs": [
    {
     "data": {
      "text/plain": [
       "{'b': CSVShape(shapeID='b', shapeLabel='label', shapeClosed=False, start=True, tripleconstraints_list=[{'propertyID': 'dc:type', 'valueConstraint': 'foaf:Person'}]),\n",
       " 'c': CSVShape(shapeID='c', shapeLabel='clabel', shapeClosed=False, start=False, tripleconstraints_list=[])}"
      ]
     },
     "execution_count": 51,
     "metadata": {},
     "output_type": "execute_result"
    }
   ],
   "source": [
    "# Problem: append multiple triple constraint dicts to tripleconstraints_list\n",
    "tc_dict = dict()\n",
    "tc_dict[\"propertyID\"] = \"dc:type\"\n",
    "tc_dict[\"valueConstraint\"] = \"foaf:Person\"\n",
    "dict_of_shape_objs[\"b\"].tripleconstraints_list.append(tc_dict)\n",
    "dict_of_shape_objs"
   ]
  },
  {
   "cell_type": "code",
   "execution_count": 52,
   "metadata": {},
   "outputs": [
    {
     "data": {
      "text/plain": [
       "CSVTripleConstraint(propertyID='dc:creator', valueConstraint='http://example.org/person1', valueShape=None, extras=None)"
      ]
     },
     "execution_count": 52,
     "metadata": {},
     "output_type": "execute_result"
    }
   ],
   "source": [
    "# Problem: append multiple triple constraint dicts to tripleconstraints_list\n",
    "tc_dict = dict()\n",
    "tc_dict[\"propertyID\"] = \"dc:creator\"\n",
    "tc_dict[\"valueConstraint\"] = \"http://example.org/person1\"\n",
    "tc_obj = CSVTripleConstraint(**tc_dict)\n",
    "tc_obj"
   ]
  },
  {
   "cell_type": "code",
   "execution_count": 53,
   "metadata": {},
   "outputs": [
    {
     "data": {
      "text/plain": [
       "{'b': CSVShape(shapeID='b', shapeLabel='label', shapeClosed=False, start=True, tripleconstraints_list=[{'propertyID': 'dc:type', 'valueConstraint': 'foaf:Person'}]),\n",
       " 'c': CSVShape(shapeID='c', shapeLabel='clabel', shapeClosed=False, start=False, tripleconstraints_list=[])}"
      ]
     },
     "execution_count": 53,
     "metadata": {},
     "output_type": "execute_result"
    }
   ],
   "source": [
    "CSVTripleConstraint(**tc_dict)\n",
    "dict_of_shape_objs"
   ]
  },
  {
   "cell_type": "code",
   "execution_count": 54,
   "metadata": {},
   "outputs": [
    {
     "data": {
      "text/plain": [
       "{'shapeID': 'b',\n",
       " 'shapeLabel': 'label',\n",
       " 'shapeClosed': False,\n",
       " 'start': True,\n",
       " 'tripleconstraints_list': [{'propertyID': 'dc:type',\n",
       "   'valueConstraint': 'foaf:Person'},\n",
       "  {'propertyID': 'dc:creator',\n",
       "   'valueConstraint': 'http://example.org/person1'}]}"
      ]
     },
     "execution_count": 54,
     "metadata": {},
     "output_type": "execute_result"
    }
   ],
   "source": [
    "# This is to pretty-print the entire CSVShape\n",
    "vars(CSVShape(shapeID='b', shapeLabel='label', shapeClosed=False, start=True, tripleconstraints_list=[\n",
    "{'propertyID': 'dc:type', 'valueConstraint': 'foaf:Person'}, \n",
    "{'propertyID': 'dc:creator', 'valueConstraint': 'http://example.org/person1'}]))"
   ]
  }
 ],
 "metadata": {
  "kernelspec": {
   "display_name": "dcapenv",
   "language": "python",
   "name": "dcapenv"
  },
  "language_info": {
   "codemirror_mode": {
    "name": "ipython",
    "version": 3
   },
   "file_extension": ".py",
   "mimetype": "text/x-python",
   "name": "python",
   "nbconvert_exporter": "python",
   "pygments_lexer": "ipython3",
   "version": "3.9.0"
  }
 },
 "nbformat": 4,
 "nbformat_minor": 4
}
